{
 "cells": [
  {
   "cell_type": "code",
   "execution_count": 43,
   "id": "3867f525",
   "metadata": {},
   "outputs": [],
   "source": [
    "import os\n",
    "import pandas as pd\n",
    "import numpy as np\n",
    "import keras\n",
    "from keras import layers\n",
    "import tensorflow as tf\n",
    "from tensorflow import data as tf_data\n",
    "import matplotlib.pyplot as plt\n",
    "from tensorflow.keras.preprocessing.image import ImageDataGenerator\n",
    "from sklearn.model_selection import train_test_split"
   ]
  },
  {
   "cell_type": "code",
   "execution_count": 44,
   "id": "58bee4c4",
   "metadata": {},
   "outputs": [
    {
     "data": {
      "text/plain": [
       "'/home/kevin'"
      ]
     },
     "execution_count": 44,
     "metadata": {},
     "output_type": "execute_result"
    }
   ],
   "source": [
    "os.getcwd()"
   ]
  },
  {
   "cell_type": "code",
   "execution_count": 45,
   "id": "b17592bf",
   "metadata": {},
   "outputs": [],
   "source": [
    "os.chdir('/home/kevin')"
   ]
  },
  {
   "cell_type": "code",
   "execution_count": 46,
   "id": "dea42e3d",
   "metadata": {},
   "outputs": [
    {
     "name": "stdout",
     "output_type": "stream",
     "text": [
      "Class names: ['diamond', 'hex', 'round', 'square', 'triangle']\n",
      "Class names and their corresponding indices:\n",
      "Class 0: diamond\n",
      "Class 1: hex\n",
      "Class 2: round\n",
      "Class 3: square\n",
      "Class 4: triangle\n"
     ]
    }
   ],
   "source": [
    "dataset_directory = \"trafficsigns_dataset\"\n",
    "\n",
    "#Gets class names by listing directories\n",
    "class_names = sorted(os.listdir(dataset_directory))  # Ensure it's sorted to match the order used by TensorFlow\n",
    "print(\"Class names:\", class_names)\n",
    "\n",
    "#prints class name and corresponding index\n",
    "print(\"Class names and their corresponding indices:\")\n",
    "for index, name in enumerate(class_names):\n",
    "    print(f\"Class {index}: {name}\")"
   ]
  },
  {
   "cell_type": "code",
   "execution_count": 47,
   "id": "57304551-496e-4207-8f9f-1af3fc46021e",
   "metadata": {},
   "outputs": [],
   "source": [
    "datagen = ImageDataGenerator(\n",
    "    rescale=1./255,\n",
    "    rotation_range=40,\n",
    "    width_shift_range=0.2,\n",
    "    height_shift_range=0.2,\n",
    "    shear_range=0.2,\n",
    "    zoom_range=0.2,\n",
    "    horizontal_flip=True,\n",
    "    fill_mode='nearest',\n",
    "    validation_split=0.2  # Setting 20% of the data for validation\n",
    ")\n"
   ]
  },
  {
   "cell_type": "code",
   "execution_count": 48,
   "id": "4df32452",
   "metadata": {},
   "outputs": [
    {
     "name": "stdout",
     "output_type": "stream",
     "text": [
      "Found 2946 images belonging to 5 classes.\n",
      "Found 735 images belonging to 5 classes.\n"
     ]
    }
   ],
   "source": [
    "# Directory where your images are stored\n",
    "directory = 'trafficsigns_dataset/'\n",
    "\n",
    "# Training generator\n",
    "train_generator = datagen.flow_from_directory(\n",
    "    directory,\n",
    "    target_size=(28, 28),\n",
    "    batch_size=32,\n",
    "    color_mode='grayscale',\n",
    "    class_mode='categorical',\n",
    "    subset='training'\n",
    ")\n",
    "\n",
    "# Validation generator\n",
    "validation_generator = datagen.flow_from_directory(\n",
    "    directory,\n",
    "    target_size=(28, 28),\n",
    "    batch_size=32,\n",
    "    color_mode='grayscale',\n",
    "    class_mode='categorical',\n",
    "    subset='validation'\n",
    ")"
   ]
  },
  {
   "cell_type": "code",
   "execution_count": 49,
   "id": "9a8cafe6-c678-434a-a511-b41953d88ee6",
   "metadata": {},
   "outputs": [],
   "source": [
    "import scipy\n",
    "from scipy.ndimage import gaussian_filter, binary_dilation\n",
    "from tensorflow.keras.models import Sequential\n",
    "from tensorflow.keras.layers import Conv2D, MaxPooling2D, Flatten, Dense\n"
   ]
  },
  {
   "cell_type": "code",
   "execution_count": 50,
   "id": "d0905270-964e-427f-92ba-a215e35b0086",
   "metadata": {},
   "outputs": [
    {
     "name": "stdout",
     "output_type": "stream",
     "text": [
      "Images shape: (32, 28, 28, 1)\n",
      "Labels shape: (32, 5)\n"
     ]
    }
   ],
   "source": [
    "#confirming shape of images\n",
    "batch_size = 32\n",
    "train_dataset = train_generator[0]\n",
    "\n",
    "# Print the shapes of the images and labels\n",
    "print(\"Images shape:\", train_dataset[0].shape)\n",
    "print(\"Labels shape:\", train_dataset[1].shape)"
   ]
  },
  {
   "cell_type": "code",
   "execution_count": 51,
   "id": "aa15b049-076d-428b-b1aa-3cb4dc78184e",
   "metadata": {},
   "outputs": [
    {
     "name": "stdout",
     "output_type": "stream",
     "text": [
      "Epoch 1/15\n",
      "\u001b[1m92/92\u001b[0m \u001b[32m━━━━━━━━━━━━━━━━━━━━\u001b[0m\u001b[37m\u001b[0m \u001b[1m5s\u001b[0m 42ms/step - accuracy: 0.4390 - loss: 1.3035 - val_accuracy: 0.5526 - val_loss: 1.2834\n",
      "Epoch 2/15\n",
      "\u001b[1m92/92\u001b[0m \u001b[32m━━━━━━━━━━━━━━━━━━━━\u001b[0m\u001b[37m\u001b[0m \u001b[1m0s\u001b[0m 545us/step - accuracy: 0.5938 - loss: 1.2957 - val_accuracy: 0.4839 - val_loss: 1.3473\n",
      "Epoch 3/15\n"
     ]
    },
    {
     "name": "stderr",
     "output_type": "stream",
     "text": [
      "2024-05-10 00:05:37.089352: W tensorflow/core/framework/local_rendezvous.cc:404] Local rendezvous is aborting with status: OUT_OF_RANGE: End of sequence\n",
      "\t [[{{node IteratorGetNext}}]]\n",
      "/usr/lib/python3.10/contextlib.py:153: UserWarning: Your input ran out of data; interrupting training. Make sure that your dataset or generator can generate at least `steps_per_epoch * epochs` batches. You may need to use the `.repeat()` function when building your dataset.\n",
      "  self.gen.throw(typ, value, traceback)\n",
      "2024-05-10 00:05:37.111881: W tensorflow/core/framework/local_rendezvous.cc:404] Local rendezvous is aborting with status: OUT_OF_RANGE: End of sequence\n",
      "\t [[{{node IteratorGetNext}}]]\n"
     ]
    },
    {
     "name": "stdout",
     "output_type": "stream",
     "text": [
      "\u001b[1m92/92\u001b[0m \u001b[32m━━━━━━━━━━━━━━━━━━━━\u001b[0m\u001b[37m\u001b[0m \u001b[1m4s\u001b[0m 41ms/step - accuracy: 0.5671 - loss: 1.1064 - val_accuracy: 0.5767 - val_loss: 1.1532\n",
      "Epoch 4/15\n",
      "\u001b[1m92/92\u001b[0m \u001b[32m━━━━━━━━━━━━━━━━━━━━\u001b[0m\u001b[37m\u001b[0m \u001b[1m0s\u001b[0m 367us/step - accuracy: 0.5000 - loss: 1.1776 - val_accuracy: 0.3548 - val_loss: 1.4982\n",
      "Epoch 5/15\n"
     ]
    },
    {
     "name": "stderr",
     "output_type": "stream",
     "text": [
      "2024-05-10 00:05:41.170697: W tensorflow/core/framework/local_rendezvous.cc:404] Local rendezvous is aborting with status: OUT_OF_RANGE: End of sequence\n",
      "\t [[{{node IteratorGetNext}}]]\n",
      "2024-05-10 00:05:41.192588: W tensorflow/core/framework/local_rendezvous.cc:404] Local rendezvous is aborting with status: OUT_OF_RANGE: End of sequence\n",
      "\t [[{{node IteratorGetNext}}]]\n"
     ]
    },
    {
     "name": "stdout",
     "output_type": "stream",
     "text": [
      "\u001b[1m92/92\u001b[0m \u001b[32m━━━━━━━━━━━━━━━━━━━━\u001b[0m\u001b[37m\u001b[0m \u001b[1m4s\u001b[0m 44ms/step - accuracy: 0.6486 - loss: 0.9406 - val_accuracy: 0.6634 - val_loss: 0.9737\n",
      "Epoch 6/15\n",
      "\u001b[1m92/92\u001b[0m \u001b[32m━━━━━━━━━━━━━━━━━━━━\u001b[0m\u001b[37m\u001b[0m \u001b[1m0s\u001b[0m 565us/step - accuracy: 0.6875 - loss: 0.8104 - val_accuracy: 0.7742 - val_loss: 0.9204\n",
      "Epoch 7/15\n"
     ]
    },
    {
     "name": "stderr",
     "output_type": "stream",
     "text": [
      "2024-05-10 00:05:45.559942: W tensorflow/core/framework/local_rendezvous.cc:404] Local rendezvous is aborting with status: OUT_OF_RANGE: End of sequence\n",
      "\t [[{{node IteratorGetNext}}]]\n",
      "2024-05-10 00:05:45.590620: W tensorflow/core/framework/local_rendezvous.cc:404] Local rendezvous is aborting with status: OUT_OF_RANGE: End of sequence\n",
      "\t [[{{node IteratorGetNext}}]]\n"
     ]
    },
    {
     "name": "stdout",
     "output_type": "stream",
     "text": [
      "\u001b[1m92/92\u001b[0m \u001b[32m━━━━━━━━━━━━━━━━━━━━\u001b[0m\u001b[37m\u001b[0m \u001b[1m4s\u001b[0m 42ms/step - accuracy: 0.6834 - loss: 0.8277 - val_accuracy: 0.6875 - val_loss: 0.9407\n",
      "Epoch 8/15\n",
      "\u001b[1m92/92\u001b[0m \u001b[32m━━━━━━━━━━━━━━━━━━━━\u001b[0m\u001b[37m\u001b[0m \u001b[1m0s\u001b[0m 557us/step - accuracy: 0.8438 - loss: 0.5242 - val_accuracy: 0.6129 - val_loss: 0.9641\n",
      "Epoch 9/15\n"
     ]
    },
    {
     "name": "stderr",
     "output_type": "stream",
     "text": [
      "2024-05-10 00:05:49.673111: W tensorflow/core/framework/local_rendezvous.cc:404] Local rendezvous is aborting with status: OUT_OF_RANGE: End of sequence\n",
      "\t [[{{node IteratorGetNext}}]]\n",
      "2024-05-10 00:05:49.703286: W tensorflow/core/framework/local_rendezvous.cc:404] Local rendezvous is aborting with status: OUT_OF_RANGE: End of sequence\n",
      "\t [[{{node IteratorGetNext}}]]\n"
     ]
    },
    {
     "name": "stdout",
     "output_type": "stream",
     "text": [
      "\u001b[1m92/92\u001b[0m \u001b[32m━━━━━━━━━━━━━━━━━━━━\u001b[0m\u001b[37m\u001b[0m \u001b[1m4s\u001b[0m 42ms/step - accuracy: 0.7458 - loss: 0.7070 - val_accuracy: 0.6832 - val_loss: 0.8152\n",
      "Epoch 10/15\n",
      "\u001b[1m92/92\u001b[0m \u001b[32m━━━━━━━━━━━━━━━━━━━━\u001b[0m\u001b[37m\u001b[0m \u001b[1m0s\u001b[0m 540us/step - accuracy: 0.8125 - loss: 0.6067 - val_accuracy: 0.6774 - val_loss: 0.9300\n",
      "Epoch 11/15\n"
     ]
    },
    {
     "name": "stderr",
     "output_type": "stream",
     "text": [
      "2024-05-10 00:05:53.815813: W tensorflow/core/framework/local_rendezvous.cc:404] Local rendezvous is aborting with status: OUT_OF_RANGE: End of sequence\n",
      "\t [[{{node IteratorGetNext}}]]\n",
      "2024-05-10 00:05:53.845190: W tensorflow/core/framework/local_rendezvous.cc:404] Local rendezvous is aborting with status: OUT_OF_RANGE: End of sequence\n",
      "\t [[{{node IteratorGetNext}}]]\n"
     ]
    },
    {
     "name": "stdout",
     "output_type": "stream",
     "text": [
      "\u001b[1m92/92\u001b[0m \u001b[32m━━━━━━━━━━━━━━━━━━━━\u001b[0m\u001b[37m\u001b[0m \u001b[1m3s\u001b[0m 35ms/step - accuracy: 0.7647 - loss: 0.6169 - val_accuracy: 0.7713 - val_loss: 0.6495\n",
      "Epoch 12/15\n",
      "\u001b[1m92/92\u001b[0m \u001b[32m━━━━━━━━━━━━━━━━━━━━\u001b[0m\u001b[37m\u001b[0m \u001b[1m0s\u001b[0m 453us/step - accuracy: 0.7500 - loss: 0.6875 - val_accuracy: 0.8387 - val_loss: 0.5779\n",
      "Epoch 13/15\n"
     ]
    },
    {
     "name": "stderr",
     "output_type": "stream",
     "text": [
      "2024-05-10 00:05:57.323400: W tensorflow/core/framework/local_rendezvous.cc:404] Local rendezvous is aborting with status: OUT_OF_RANGE: End of sequence\n",
      "\t [[{{node IteratorGetNext}}]]\n",
      "2024-05-10 00:05:57.346793: W tensorflow/core/framework/local_rendezvous.cc:404] Local rendezvous is aborting with status: OUT_OF_RANGE: End of sequence\n",
      "\t [[{{node IteratorGetNext}}]]\n"
     ]
    },
    {
     "name": "stdout",
     "output_type": "stream",
     "text": [
      "\u001b[1m92/92\u001b[0m \u001b[32m━━━━━━━━━━━━━━━━━━━━\u001b[0m\u001b[37m\u001b[0m \u001b[1m4s\u001b[0m 45ms/step - accuracy: 0.8151 - loss: 0.5061 - val_accuracy: 0.7642 - val_loss: 0.7176\n",
      "Epoch 14/15\n",
      "\u001b[1m92/92\u001b[0m \u001b[32m━━━━━━━━━━━━━━━━━━━━\u001b[0m\u001b[37m\u001b[0m \u001b[1m0s\u001b[0m 619us/step - accuracy: 0.7188 - loss: 0.5110 - val_accuracy: 0.7419 - val_loss: 0.6817\n",
      "Epoch 15/15\n"
     ]
    },
    {
     "name": "stderr",
     "output_type": "stream",
     "text": [
      "2024-05-10 00:06:01.695150: W tensorflow/core/framework/local_rendezvous.cc:404] Local rendezvous is aborting with status: OUT_OF_RANGE: End of sequence\n",
      "\t [[{{node IteratorGetNext}}]]\n",
      "2024-05-10 00:06:01.727702: W tensorflow/core/framework/local_rendezvous.cc:404] Local rendezvous is aborting with status: OUT_OF_RANGE: End of sequence\n",
      "\t [[{{node IteratorGetNext}}]]\n"
     ]
    },
    {
     "name": "stdout",
     "output_type": "stream",
     "text": [
      "\u001b[1m92/92\u001b[0m \u001b[32m━━━━━━━━━━━━━━━━━━━━\u001b[0m\u001b[37m\u001b[0m \u001b[1m4s\u001b[0m 44ms/step - accuracy: 0.8265 - loss: 0.4671 - val_accuracy: 0.7472 - val_loss: 0.6759\n"
     ]
    }
   ],
   "source": [
    "num_classes = 5\n",
    "\n",
    "model = Sequential([\n",
    "    Conv2D(32, (5, 5), activation='relu', input_shape=(28, 28, 1)),\n",
    "    MaxPooling2D(2, 2),\n",
    "    Conv2D(64, (5, 5), activation='relu'),\n",
    "    MaxPooling2D(2, 2),\n",
    "    Flatten(),\n",
    "    Dense(512, activation='relu'),\n",
    "    Dense(num_classes, activation='softmax') \n",
    "])\n",
    "\n",
    "model.compile(optimizer='adam',\n",
    "              loss='categorical_crossentropy',\n",
    "              metrics=['accuracy'])\n",
    "\n",
    "history = model.fit(\n",
    "    train_generator,\n",
    "    steps_per_epoch=train_generator.samples // train_generator.batch_size,\n",
    "    epochs=15,\n",
    "    validation_data=validation_generator,\n",
    "    validation_steps=validation_generator.samples // validation_generator.batch_size\n",
    ")"
   ]
  },
  {
   "cell_type": "code",
   "execution_count": 52,
   "id": "a12472b8-9ff1-40f5-87f2-70d8c6fcef85",
   "metadata": {},
   "outputs": [],
   "source": [
    "# epochs = 15\n",
    "# callbacks = [\n",
    "#     keras.callbacks.ModelCheckpoint(\"save_at_{epoch}.keras\"),\n",
    "# ]\n",
    "# history = model.fit(\n",
    "#     train_generator,\n",
    "#     epochs=epochs,\n",
    "#     callbacks=callbacks,\n",
    "#     validation_data=validation_generator,\n",
    "# )"
   ]
  },
  {
   "cell_type": "markdown",
   "id": "e5218759",
   "metadata": {},
   "source": [
    "### plot Validation Loss and Training Loss"
   ]
  },
  {
   "cell_type": "code",
   "execution_count": 53,
   "id": "f11a097a",
   "metadata": {},
   "outputs": [
    {
     "data": {
      "image/png": "[encoded data removed]",
      "text/plain": [
       "<Figure size 800x500 with 1 Axes>"
      ]
     },
     "metadata": {},
     "output_type": "display_data"
    }
   ],
   "source": [
    "plt.figure(figsize=(8, 5))\n",
    "plt.plot(history.history['loss'], label='Training Loss')\n",
    "plt.plot(history.history['val_loss'], label='Validation Loss')\n",
    "plt.title('Training and Validation Loss')\n",
    "plt.xlabel('Epochs')\n",
    "plt.ylabel('Loss')\n",
    "plt.legend()\n",
    "plt.grid(True)\n",
    "plt.show()"
   ]
  },
  {
   "cell_type": "markdown",
   "id": "6f828808",
   "metadata": {},
   "source": [
    "### Plot Validation Accuracy and Training Accuracy"
   ]
  },
  {
   "cell_type": "code",
   "execution_count": 54,
   "id": "8ca84092",
   "metadata": {},
   "outputs": [
    {
     "data": {
      "image/png": "[encoded data removed]",
      "text/plain": [
       "<Figure size 800x500 with 1 Axes>"
      ]
     },
     "metadata": {},
     "output_type": "display_data"
    }
   ],
   "source": [
    "plt.figure(figsize=(8, 5))\n",
    "plt.plot(history.history['accuracy'], label='Training Accuracy')  # Change 'loss' to 'accuracy'\n",
    "plt.plot(history.history['val_accuracy'], label='Validation Accuracy')  # Change 'val_loss' to 'val_accuracy'\n",
    "plt.title('Training and Validation Accuracy')  # Change title to Accuracy\n",
    "plt.xlabel('Epochs')\n",
    "plt.ylabel('Accuracy')  # Change Y-axis label to Accuracy\n",
    "plt.legend()\n",
    "plt.grid(True)\n",
    "plt.show()"
   ]
  },
  {
   "cell_type": "markdown",
   "id": "31730266",
   "metadata": {},
   "source": [
    "### Type classification model"
   ]
  },
  {
   "cell_type": "code",
   "execution_count": 55,
   "id": "62cb54e4",
   "metadata": {},
   "outputs": [
    {
     "name": "stdout",
     "output_type": "stream",
     "text": [
      "unzip:  cannot find or open trafficsigns_dataset_withtype.zip, trafficsigns_dataset_withtype.zip.zip or trafficsigns_dataset_withtype.zip.ZIP.\n",
      " A1.ipynb\n",
      " \u001b[0m\u001b[01;34mAA\u001b[0m/\n",
      "'Act 1_ Basic Text Preprocessing with NLTK Part I.ipynb'\n",
      "'Act 1_Parsing CSV_TSV Files.ipynb'\n",
      "'Act 2 _ Bikeshare Trip Data Integration.ipynb'\n",
      "'Act 2_ Basic Text Preprocessing with NLTK Part II.ipynb'\n",
      "'Act 2_Parsing JSON Files.ipynb'\n",
      "'Act 3_ Generating Feature Vectors.ipynb'\n",
      "'Act 3_Parsing XML files.ipynb'\n",
      "'Act 4_Document Classification.ipynb'\n",
      "'Act 5_Fun with word embeddings.ipynb'\n",
      "'Act 6_ Document classification with embeddings.ipynb'\n",
      "'Assignment 2-checkpoint.ipynb'\n",
      " \u001b[01;34mBostonHousingPrice\u001b[0m/\n",
      " \u001b[01;31mBostonHousingPrice.zip\u001b[0m\n",
      " BostonHousingPrice.zip:Zone.Identifier\n",
      " \u001b[01;34mCIFAR10_Lab9-1\u001b[0m/\n",
      " CIFAR10_Lab9-1.zip:Zone.Identifier\n",
      " CIFAR10_Lab9-1.zip:shield\n",
      " \u001b[01;34mCIFAR_10_BATCH1\u001b[0m/\n",
      " CIFAR_Data.csv\n",
      "'Cardiotocography_Data_Set (2).csv:Zone.Identifier'\n",
      "'Cardiotocography_Data_Set (2).csv:shield'\n",
      " Cardiotocography_Data_Set.csv\n",
      "'Cardiotocography_Data_Set_subset (2).csv:Zone.Identifier'\n",
      "'Cardiotocography_Data_Set_subset (2).csv:shield'\n",
      " Cardiotocography_Data_Set_subset.csv\n",
      "'Check your pattern.ipynb'\n",
      "'Demo - LTL week 6.ipynb'\n",
      "'Ex1_Parsing Melbourne Bike Share JSON Data.ipynb'\n",
      "'Ex1_Parsing Melbourne Bike Share JSON Data_withSampleAnswer.ipynb'\n",
      "'Exe 1_Preprocessing Movie Review Data-WithSampleAnswers.ipynb'\n",
      "'Exe 1_Preprocessing Movie Review Data.ipynb'\n",
      "'Exe 1_Regular Expression (Advanced).ipynb'\n",
      "'Exe 1_Regular Expression (Advanced)_WithSampleAnswers.ipynb'\n",
      "'Exe 2_ Parsing Melbourne Bike Share XML Data.ipynb'\n",
      "'Exe 2_ Parsing Melbourne Bike Share XML Data_withSampleAnswer.ipynb'\n",
      "'Exe 2_Sentiment Analysis-WithSampleAnswers.ipynb'\n",
      "'Exe 2_Sentiment Analysis.ipynb'\n",
      " \u001b[01;31mGene_Disease.tsv.gz\u001b[0m\n",
      " Identifying_Superheroes_From_Product_Images.ipynb\n",
      "'KNN breast-checkpoint.ipynb'\n",
      "'KNN breast.ipynb'\n",
      " KNN_based_CF_final-checkpoint.ipynb\n",
      " KNN_based_CF_final.ipynb\n",
      " Lab5.4.ipynb\n",
      " \u001b[01;34mML_ass1\u001b[0m/\n",
      " ML_ass1.ipynb\n",
      " Miniconda3-latest-Linux-x86_64.sh\n",
      " Miniconda3-latest-Linux-x86_64.sh.1\n",
      "'PubTator pipeline V3.ipynb'\n",
      "'PupTator pipeline V2.ipynb'\n",
      "'PupTator pipeline V2.ipynb:Zone.Identifier'\n",
      " Ranking_euclidian-checkpoint.ipynb\n",
      " Ranking_euclidian.ipynb\n",
      " Ranking_movies-checkpoint.ipynb\n",
      " Ranking_movies.ipynb\n",
      "'TopPop and movieavg-checkpoint.ipynb'\n",
      "'TopPop and movieavg.ipynb'\n",
      " TopPop_MovieAvg-checkpoint.ipynb\n",
      " TopPop_MovieAvg.ipynb\n",
      " Tute_9-checkpoint.ipynb\n",
      " Tute_9.ipynb\n",
      " Untitled.ipynb\n",
      " Untitled1.ipynb\n",
      " \u001b[01;34mW05_DecreaseConquer_BST_SkeletonCode\u001b[0m/\n",
      " \u001b[01;34mW07_TransformConquer_AVLTree_Skeleton\u001b[0m/\n",
      "'Week 2.ipynb'\n",
      "'Week 5 pt 2.ipynb'\n",
      "'Week 5.ipynb'\n",
      " Week01_lab_exercises.ipynb\n",
      " Week01_lab_exercises.ipynb:Zone.Identifier\n",
      " Week02_LectureQandA.ipynb\n",
      " Week02_LectureQandA.ipynb:Zone.Identifier\n",
      " Week12-checkpoint.ipynb\n",
      " Week12.ipynb\n",
      " Week3_lab_exercises-1.ipynb\n",
      " Week3_lab_exercises-1.ipynb:Zone.Identifier\n",
      " Week3_lab_exercises-2b.ipynb\n",
      " Week3_lab_exercises-2b.ipynb:Zone.Identifier\n",
      " Week3_lab_exercises-2b.ipynb:shield\n",
      "'Week4_lab_exercises (2).ipynb'\n",
      "'Week4_lab_exercises (2).ipynb:Zone.Identifier'\n",
      "'Week4_lab_exercises (2).ipynb:shield'\n",
      " Week5-checkpoint.ipynb\n",
      " Week5.ipynb\n",
      " Week5Lectorial-checkpoint.ipynb\n",
      " Week5Lectorial.ipynb\n",
      " Week5_lab_exercises.ipynb\n",
      " Week5_lab_exercises.ipynb:Zone.Identifier\n",
      " Week5_lab_exercises.ipynb:shield\n",
      " Week7-checkpoint.ipynb\n",
      " Week7.ipynb\n",
      " Week7_lab_exercises.ipynb\n",
      " Week7_lab_exercises.ipynb:Zone.Identifier\n",
      " Week7_lab_exercises.ipynb:shield\n",
      " Week8-checkpoint.ipynb\n",
      " Week8.ipynb\n",
      " Week9_lab_excercises.ipynb\n",
      " Week9_lab_excercises.ipynb:Zone.Identifier\n",
      " Week9_lab_excercises.ipynb:shield\n",
      " \u001b[01;34m__MACOSX\u001b[0m/\n",
      " adjacencyList.py\n",
      " averageDistanceToCentroids-checkpoint.ipynb\n",
      " averageDistanceToCentroids.ipynb\n",
      " bank-full.csv\n",
      " bank-full.csv:Zone.Identifier\n",
      " bank-full.csv:shield\n",
      " cerealKmeansExample.ipynb\n",
      " \u001b[01;34mcocoscore\u001b[0m/\n",
      " credit_scorecard_demo_public.ipynb\n",
      "'data science python.ipynb'\n",
      " \u001b[01;31mdataset_9606_-26_test.tsv.gz\u001b[0m\n",
      " dataset_9606_-26_test.tsv.gz:Zone.Identifier\n",
      " \u001b[01;31mdataset_9606_-26_train.tsv.gz\u001b[0m\n",
      " dataset_9606_-26_train.tsv.gz:Zone.Identifier\n",
      " deepLearningImdbSentimentRnn.ipynb\n",
      " dlpy_image_classification_fruit.ipynb\n",
      " dlpy_retail_image_classification.ipynb\n",
      " fairprism_disaggregated.csv\n",
      " fairprism_disaggregated.csv:Zone.Identifier\n",
      " gameOfThronesTsneVisual.ipynb\n",
      " gene_interactions.txt\n",
      " getAbstracts.ipynb\n",
      " getAbstracts.ipynb:Zone.Identifier\n",
      " \u001b[01;34mgraph\u001b[0m/\n",
      " harmscorepredictor.ipynb\n",
      " hmeqSklearnExample.ipynb\n",
      " housing.data.csv\n",
      " housing.data.csv:Zone.Identifier\n",
      "'k means clustering-checkpoint.ipynb'\n",
      "'k means clustering.ipynb'\n",
      " k-nearest-checkpoint.ipynb\n",
      " k-nearest.ipynb\n",
      " kFlod_non_sklearn_dataset-checkpoint.ipynb\n",
      " kFlod_non_sklearn_dataset.ipynb\n",
      " kaggleHousePricingWIP.ipynb\n",
      " lab9.4.ipynb\n",
      " machineAndDeepLearningExamples.ipynb\n",
      " \u001b[01;34mmazeGenSkeleton\u001b[0m/\n",
      " \u001b[01;34mmazeGenSkeleton2\u001b[0m/\n",
      " \u001b[01;34mminiconda3\u001b[0m/\n",
      " pds_lab1_extra.ipynb\n",
      " plot_classification-checkpoint.ipynb\n",
      " plot_classification.ipynb\n",
      " pubmed_concepts.csv\n",
      " result_df.csv\n",
      " retail_multi_task_final.ipynb\n",
      " s3909614.ipynb\n",
      " \u001b[01;31ms3909614.zip\u001b[0m\n",
      " s3909614_task1_2.ipynb\n",
      " s3909614_task3.ipynb\n",
      " s3909614task1.ipynb\n",
      " s3909614task2_3.ipynb\n",
      " sample_solution.csv\n",
      " sample_solutions.csv\n",
      " sampletest.txt\n",
      " save_at_1.keras\n",
      " save_at_10.keras\n",
      " save_at_11.keras\n",
      " save_at_12.keras\n",
      " save_at_13.keras\n",
      " save_at_14.keras\n",
      " save_at_15.keras\n",
      " save_at_16.keras\n",
      " save_at_17.keras\n",
      " save_at_18.keras\n",
      " save_at_19.keras\n",
      " save_at_2.keras\n",
      " save_at_20.keras\n",
      " save_at_21.keras\n",
      " save_at_22.keras\n",
      " save_at_23.keras\n",
      " save_at_24.keras\n",
      " save_at_25.keras\n",
      " save_at_3.keras\n",
      " save_at_4.keras\n",
      " save_at_5.keras\n",
      " save_at_6.keras\n",
      " save_at_7.keras\n",
      " save_at_8.keras\n",
      " save_at_9.keras\n",
      " sentimentTextAnalysis.ipynb\n",
      " \u001b[01;34msplit_data\u001b[0m/\n",
      " spotify.ipynb\n",
      " startagain\n",
      " tSneExampleBlogPost.ipynb\n",
      " test_data_with_predictions.csv\n",
      " test_predictions.csv\n",
      " traffic.ipynb\n",
      " \u001b[01;34mtraffic_signs\u001b[0m/\n",
      " traffic_signs.ipynb\n",
      " \u001b[01;34mtraffic_split\u001b[0m/\n",
      " trafficsigns.ipynb\n",
      " \u001b[01;34mtrafficsigns_dataset\u001b[0m/\n",
      " \u001b[01;34mw02LinkedList-pythonSolution\u001b[0m/\n",
      " week9-checkpoint.ipynb\n",
      " week9.ipynb\n"
     ]
    }
   ],
   "source": [
    "# Do not run unless using google colab\n",
    "!unzip trafficsigns_dataset_withtype.zip\n",
    "%ls"
   ]
  },
  {
   "cell_type": "code",
   "execution_count": 59,
   "id": "fb243aa3",
   "metadata": {},
   "outputs": [],
   "source": [
    "import tensorflow as tf\n",
    "AUTOTUNE = tf.data.experimental.AUTOTUNE\n",
    "\n",
    "import IPython.display as display\n",
    "from PIL import Image\n",
    "import numpy as np\n",
    "import matplotlib.pyplot as plt\n",
    "import os\n",
    "\n",
    "import pandas as pd\n",
    "import zipfile\n",
    "with zipfile.ZipFile('./types.zip', 'r') as zip_ref:\n",
    "    zip_ref.extractall('./')\n",
    "\n",
    "sign_type_class_names = ['rightofway','stop','bicycle','limitedtraffic','noentry','noparking','roundabout','speed','trafficdirective','traveldirection','continue',\n",
    "                         'crossing','laneend','parking','giveway','warning']\n",
    "\n",
    "import glob\n",
    "image_list = []\n",
    "for filepath in glob.glob('./types/*/*.png', recursive=True):\n",
    "    filename = filepath.split('/')[-1]\n",
    "    sign_type = filepath.split('/')[-2]\n",
    "    image_list.append((filepath, sign_type))\n",
    "\n",
    "data = pd.DataFrame(data=image_list, columns=['image_path', 'sign_type'])\n",
    "\n",
    "from sklearn.model_selection import train_test_split\n",
    "\n",
    "train_data, test_data = train_test_split(data, test_size=0.2, random_state=42)\n",
    "train_data, val_data = train_test_split(train_data, test_size=0.25, random_state=42)"
   ]
  },
  {
   "cell_type": "code",
   "execution_count": 60,
   "id": "d0599a0a",
   "metadata": {},
   "outputs": [
    {
     "name": "stdout",
     "output_type": "stream",
     "text": [
      "Found 2219 validated image filenames belonging to 16 classes.\n",
      "Found 740 validated image filenames belonging to 16 classes.\n"
     ]
    }
   ],
   "source": [
    "train_datagen = ImageDataGenerator(rescale=1./255, data_format='channels_last')\n",
    "val_datagen = ImageDataGenerator(rescale=1./255, data_format='channels_last')\n",
    "\n",
    "batch_size = 32\n",
    "\n",
    "train_generator = train_datagen.flow_from_dataframe(\n",
    "        dataframe=train_data,\n",
    "        directory='./',\n",
    "        x_col=\"image_path\",\n",
    "        y_col=\"sign_type\",\n",
    "        target_size=(28, 28),\n",
    "        batch_size=batch_size,\n",
    "        class_mode='categorical')\n",
    "\n",
    "validation_generator = val_datagen.flow_from_dataframe(\n",
    "        dataframe=val_data,\n",
    "        directory='./',\n",
    "        x_col=\"image_path\",\n",
    "        y_col=\"sign_type\",\n",
    "        target_size=(28, 28),\n",
    "        batch_size=batch_size,\n",
    "        class_mode='categorical')"
   ]
  },
  {
   "cell_type": "code",
   "execution_count": 61,
   "id": "457a4bc9",
   "metadata": {},
   "outputs": [],
   "source": [
    "reg_lambda = 0.001\n",
    "OUTPUT_CLASSES = 16\n",
    "\n",
    "model_leNet = tf.keras.Sequential([\n",
    "    tf.keras.layers.Input(shape=(28, 28, 3)),\n",
    "    tf.keras.layers.Lambda(lambda x: tf.expand_dims(x[:,:,:,0], -1, name=None)),\n",
    "\n",
    "\n",
    "    tf.keras.layers.Conv2D(32, (3, 3), kernel_regularizer=tf.keras.regularizers.l2(reg_lambda)),\n",
    "    tf.keras.layers.Activation('relu'),\n",
    "    tf.keras.layers.MaxPool2D(pool_size=(2,2)),\n",
    "\n",
    "    tf.keras.layers.Conv2D(32, (3, 3), kernel_regularizer=tf.keras.regularizers.l2(reg_lambda)),\n",
    "    tf.keras.layers.Activation('relu'),\n",
    "\n",
    "    tf.keras.layers.Conv2D(64, (3, 3)),\n",
    "    tf.keras.layers.Activation('relu'),\n",
    "    tf.keras.layers.MaxPool2D(pool_size=(2,2)),\n",
    "\n",
    "    tf.keras.layers.Flatten(),\n",
    "    tf.keras.layers.Dense(64),\n",
    "    tf.keras.layers.Activation('relu'),\n",
    "    tf.keras.layers.Dropout(0.5),\n",
    "    tf.keras.layers.Dense(OUTPUT_CLASSES, activation='softmax', kernel_regularizer=tf.keras.regularizers.l2(reg_lambda))\n",
    "])"
   ]
  },
  {
   "cell_type": "code",
   "execution_count": 64,
   "id": "009821d1",
   "metadata": {},
   "outputs": [
    {
     "name": "stderr",
     "output_type": "stream",
     "text": [
      "/home/kevin/.local/lib/python3.10/site-packages/keras/src/optimizers/base_optimizer.py:32: UserWarning: Argument `decay` is no longer supported and will be ignored.\n",
      "  warnings.warn(\n",
      "/home/kevin/.local/lib/python3.10/site-packages/keras/src/trainers/data_adapters/py_dataset_adapter.py:120: UserWarning: Your `PyDataset` class should call `super().__init__(**kwargs)` in its constructor. `**kwargs` can include `workers`, `use_multiprocessing`, `max_queue_size`. Do not pass these arguments to `fit()`, as they will be ignored.\n",
      "  self._warn_if_super_not_called()\n"
     ]
    }
   ],
   "source": [
    "sgd = tf.keras.optimizers.SGD(learning_rate=0.01, decay=1e-6, momentum=0.9, nesterov=True)\n",
    "model_leNet.compile(optimizer=sgd,\n",
    "              loss=tf.keras.losses.CategoricalCrossentropy(from_logits=False),\n",
    "              metrics=['categorical_accuracy'])\n",
    "\n",
    "history = model_leNet.fit(train_generator,\n",
    "                                    validation_data = validation_generator,\n",
    "                                    epochs=100, verbose=0)"
   ]
  },
  {
   "cell_type": "code",
   "execution_count": 66,
   "id": "b26679d1",
   "metadata": {},
   "outputs": [
    {
     "data": {
      "image/png": "[encoded data removed]",
      "text/plain": [
       "<Figure size 1000x500 with 2 Axes>"
      ]
     },
     "metadata": {},
     "output_type": "display_data"
    }
   ],
   "source": [
    "plt.figure(figsize=(10,5))\n",
    "plt.subplot(1,2,1)\n",
    "plt.plot(history.history['loss'], 'r--')\n",
    "plt.plot(history.history['val_loss'], 'b--')\n",
    "plt.xlabel(\"epochs\")\n",
    "plt.ylabel(\"Loss\")\n",
    "plt.legend(['train', 'val'], loc='upper left')\n",
    "\n",
    "plt.subplot(1,2,2)\n",
    "plt.plot(history.history['categorical_accuracy'], 'r--')\n",
    "plt.plot(history.history['val_categorical_accuracy'], 'b--')\n",
    "plt.xlabel(\"epochs\")\n",
    "plt.ylabel(\"Accuracy\")\n",
    "plt.legend(['train', 'val'], loc='upper left')\n",
    "plt.show()\n",
    "\n",
    "plt.show()"
   ]
  },
  {
   "cell_type": "markdown",
   "id": "c3b60586",
   "metadata": {},
   "source": [
    "### data Augmentation"
   ]
  },
  {
   "cell_type": "code",
   "execution_count": 67,
   "id": "685d13b4",
   "metadata": {},
   "outputs": [
    {
     "name": "stdout",
     "output_type": "stream",
     "text": [
      "Found 2219 validated image filenames belonging to 16 classes.\n",
      "Found 740 validated image filenames belonging to 16 classes.\n"
     ]
    }
   ],
   "source": [
    "train_datagen = ImageDataGenerator(rescale=1./255, data_format='channels_last',\n",
    "                                  rotation_range=15, width_shift_range=0.2,\n",
    "                                  height_shift_range=0.2)\n",
    "val_datagen = ImageDataGenerator(rescale=1./255, data_format='channels_last')\n",
    "\n",
    "batch_size = 32\n",
    "\n",
    "train_generator = train_datagen.flow_from_dataframe(\n",
    "        dataframe=train_data,\n",
    "        directory='./',\n",
    "        x_col=\"image_path\",\n",
    "        y_col=\"sign_type\",\n",
    "        target_size=(28, 28),\n",
    "        batch_size=batch_size,\n",
    "        class_mode='categorical')\n",
    "\n",
    "validation_generator = val_datagen.flow_from_dataframe(\n",
    "        dataframe=val_data,\n",
    "        directory='./',\n",
    "        x_col=\"image_path\",\n",
    "        y_col=\"sign_type\",\n",
    "        target_size=(28, 28),\n",
    "        batch_size=batch_size,\n",
    "        class_mode='categorical')"
   ]
  },
  {
   "cell_type": "code",
   "execution_count": 69,
   "id": "6ba30f25",
   "metadata": {},
   "outputs": [
    {
     "ename": "ValueError",
     "evalue": "Unknown variable: <KerasVariable shape=(3, 3, 1, 32), dtype=float32, path=sequential_7/conv2d_14/kernel>. This optimizer can only be called for the variables it was originally built with. When working with a new set of variables, you should recreate a new optimizer instance.",
     "output_type": "error",
     "traceback": [
      "\u001b[0;31m---------------------------------------------------------------------------\u001b[0m",
      "\u001b[0;31mValueError\u001b[0m                                Traceback (most recent call last)",
      "Cell \u001b[0;32mIn[69], line 28\u001b[0m\n\u001b[1;32m      1\u001b[0m model_leNet_aug \u001b[38;5;241m=\u001b[39m tf\u001b[38;5;241m.\u001b[39mkeras\u001b[38;5;241m.\u001b[39mSequential([\n\u001b[1;32m      2\u001b[0m     tf\u001b[38;5;241m.\u001b[39mkeras\u001b[38;5;241m.\u001b[39mlayers\u001b[38;5;241m.\u001b[39mInput(shape\u001b[38;5;241m=\u001b[39m(\u001b[38;5;241m28\u001b[39m, \u001b[38;5;241m28\u001b[39m, \u001b[38;5;241m3\u001b[39m)),\n\u001b[1;32m      3\u001b[0m     tf\u001b[38;5;241m.\u001b[39mkeras\u001b[38;5;241m.\u001b[39mlayers\u001b[38;5;241m.\u001b[39mLambda(\u001b[38;5;28;01mlambda\u001b[39;00m x: tf\u001b[38;5;241m.\u001b[39mexpand_dims(x[:,:,:,\u001b[38;5;241m0\u001b[39m], \u001b[38;5;241m-\u001b[39m\u001b[38;5;241m1\u001b[39m, name\u001b[38;5;241m=\u001b[39m\u001b[38;5;28;01mNone\u001b[39;00m)),\n\u001b[0;32m   (...)\u001b[0m\n\u001b[1;32m     21\u001b[0m     tf\u001b[38;5;241m.\u001b[39mkeras\u001b[38;5;241m.\u001b[39mlayers\u001b[38;5;241m.\u001b[39mDense(OUTPUT_CLASSES, activation\u001b[38;5;241m=\u001b[39m\u001b[38;5;124m'\u001b[39m\u001b[38;5;124msoftmax\u001b[39m\u001b[38;5;124m'\u001b[39m, kernel_regularizer\u001b[38;5;241m=\u001b[39mtf\u001b[38;5;241m.\u001b[39mkeras\u001b[38;5;241m.\u001b[39mregularizers\u001b[38;5;241m.\u001b[39ml2(reg_lambda))\n\u001b[1;32m     22\u001b[0m ])\n\u001b[1;32m     24\u001b[0m model_leNet_aug \u001b[38;5;241m.\u001b[39mcompile(optimizer\u001b[38;5;241m=\u001b[39msgd,\n\u001b[1;32m     25\u001b[0m               loss\u001b[38;5;241m=\u001b[39mtf\u001b[38;5;241m.\u001b[39mkeras\u001b[38;5;241m.\u001b[39mlosses\u001b[38;5;241m.\u001b[39mCategoricalCrossentropy(from_logits\u001b[38;5;241m=\u001b[39m\u001b[38;5;28;01mFalse\u001b[39;00m),\n\u001b[1;32m     26\u001b[0m               metrics\u001b[38;5;241m=\u001b[39m[\u001b[38;5;124m'\u001b[39m\u001b[38;5;124mcategorical_accuracy\u001b[39m\u001b[38;5;124m'\u001b[39m])\n\u001b[0;32m---> 28\u001b[0m history \u001b[38;5;241m=\u001b[39m \u001b[43mmodel_leNet_aug\u001b[49m\u001b[43m \u001b[49m\u001b[38;5;241;43m.\u001b[39;49m\u001b[43mfit\u001b[49m\u001b[43m(\u001b[49m\u001b[43mtrain_generator\u001b[49m\u001b[43m,\u001b[49m\n\u001b[1;32m     29\u001b[0m \u001b[43m                                    \u001b[49m\u001b[43mvalidation_data\u001b[49m\u001b[43m \u001b[49m\u001b[38;5;241;43m=\u001b[39;49m\u001b[43m \u001b[49m\u001b[43mvalidation_generator\u001b[49m\u001b[43m,\u001b[49m\n\u001b[1;32m     30\u001b[0m \u001b[43m                                    \u001b[49m\u001b[43mepochs\u001b[49m\u001b[38;5;241;43m=\u001b[39;49m\u001b[38;5;241;43m150\u001b[39;49m\u001b[43m,\u001b[49m\u001b[43m \u001b[49m\u001b[43mverbose\u001b[49m\u001b[38;5;241;43m=\u001b[39;49m\u001b[38;5;241;43m0\u001b[39;49m\u001b[43m)\u001b[49m\n",
      "File \u001b[0;32m~/.local/lib/python3.10/site-packages/keras/src/utils/traceback_utils.py:122\u001b[0m, in \u001b[0;36mfilter_traceback.<locals>.error_handler\u001b[0;34m(*args, **kwargs)\u001b[0m\n\u001b[1;32m    119\u001b[0m     filtered_tb \u001b[38;5;241m=\u001b[39m _process_traceback_frames(e\u001b[38;5;241m.\u001b[39m__traceback__)\n\u001b[1;32m    120\u001b[0m     \u001b[38;5;66;03m# To get the full stack trace, call:\u001b[39;00m\n\u001b[1;32m    121\u001b[0m     \u001b[38;5;66;03m# `keras.config.disable_traceback_filtering()`\u001b[39;00m\n\u001b[0;32m--> 122\u001b[0m     \u001b[38;5;28;01mraise\u001b[39;00m e\u001b[38;5;241m.\u001b[39mwith_traceback(filtered_tb) \u001b[38;5;28;01mfrom\u001b[39;00m \u001b[38;5;28;01mNone\u001b[39;00m\n\u001b[1;32m    123\u001b[0m \u001b[38;5;28;01mfinally\u001b[39;00m:\n\u001b[1;32m    124\u001b[0m     \u001b[38;5;28;01mdel\u001b[39;00m filtered_tb\n",
      "File \u001b[0;32m~/.local/lib/python3.10/site-packages/keras/src/optimizers/base_optimizer.py:227\u001b[0m, in \u001b[0;36mBaseOptimizer._check_variables_are_known\u001b[0;34m(self, variables)\u001b[0m\n\u001b[1;32m    225\u001b[0m \u001b[38;5;28;01mfor\u001b[39;00m v \u001b[38;5;129;01min\u001b[39;00m variables:\n\u001b[1;32m    226\u001b[0m     \u001b[38;5;28;01mif\u001b[39;00m \u001b[38;5;28mself\u001b[39m\u001b[38;5;241m.\u001b[39m_var_key(v) \u001b[38;5;129;01mnot\u001b[39;00m \u001b[38;5;129;01min\u001b[39;00m \u001b[38;5;28mself\u001b[39m\u001b[38;5;241m.\u001b[39m_trainable_variables_indices:\n\u001b[0;32m--> 227\u001b[0m         \u001b[38;5;28;01mraise\u001b[39;00m \u001b[38;5;167;01mValueError\u001b[39;00m(\n\u001b[1;32m    228\u001b[0m             \u001b[38;5;124mf\u001b[39m\u001b[38;5;124m\"\u001b[39m\u001b[38;5;124mUnknown variable: \u001b[39m\u001b[38;5;132;01m{\u001b[39;00mv\u001b[38;5;132;01m}\u001b[39;00m\u001b[38;5;124m. This optimizer can only \u001b[39m\u001b[38;5;124m\"\u001b[39m\n\u001b[1;32m    229\u001b[0m             \u001b[38;5;124m\"\u001b[39m\u001b[38;5;124mbe called for the variables it was originally built with. \u001b[39m\u001b[38;5;124m\"\u001b[39m\n\u001b[1;32m    230\u001b[0m             \u001b[38;5;124m\"\u001b[39m\u001b[38;5;124mWhen working with a new set of variables, you should \u001b[39m\u001b[38;5;124m\"\u001b[39m\n\u001b[1;32m    231\u001b[0m             \u001b[38;5;124m\"\u001b[39m\u001b[38;5;124mrecreate a new optimizer instance.\u001b[39m\u001b[38;5;124m\"\u001b[39m\n\u001b[1;32m    232\u001b[0m         )\n",
      "\u001b[0;31mValueError\u001b[0m: Unknown variable: <KerasVariable shape=(3, 3, 1, 32), dtype=float32, path=sequential_7/conv2d_14/kernel>. This optimizer can only be called for the variables it was originally built with. When working with a new set of variables, you should recreate a new optimizer instance."
     ]
    }
   ],
   "source": [
    "model_leNet_aug = tf.keras.Sequential([\n",
    "    tf.keras.layers.Input(shape=(28, 28, 3)),\n",
    "    tf.keras.layers.Lambda(lambda x: tf.expand_dims(x[:,:,:,0], -1, name=None)),\n",
    "\n",
    "\n",
    "    tf.keras.layers.Conv2D(32, (3, 3), kernel_regularizer=tf.keras.regularizers.l2(reg_lambda)),\n",
    "    tf.keras.layers.Activation('relu'),\n",
    "    tf.keras.layers.MaxPool2D(pool_size=(2,2)),\n",
    "\n",
    "    tf.keras.layers.Conv2D(32, (3, 3), kernel_regularizer=tf.keras.regularizers.l2(reg_lambda)),\n",
    "    tf.keras.layers.Activation('relu'),\n",
    "\n",
    "    tf.keras.layers.Conv2D(64, (3, 3)),\n",
    "    tf.keras.layers.Activation('relu'),\n",
    "    tf.keras.layers.MaxPool2D(pool_size=(2,2)),\n",
    "\n",
    "    tf.keras.layers.Flatten(),\n",
    "    tf.keras.layers.Dense(64),\n",
    "    tf.keras.layers.Activation('relu'),\n",
    "    tf.keras.layers.Dropout(0.5),\n",
    "    tf.keras.layers.Dense(OUTPUT_CLASSES, activation='softmax', kernel_regularizer=tf.keras.regularizers.l2(reg_lambda))\n",
    "])\n",
    "\n",
    "model_leNet_aug .compile(optimizer=sgd,\n",
    "              loss=tf.keras.losses.CategoricalCrossentropy(from_logits=False),\n",
    "              metrics=['categorical_accuracy'])\n",
    "\n",
    "history = model_leNet_aug .fit(train_generator,\n",
    "                                    validation_data = validation_generator,\n",
    "                                    epochs=150, verbose=0)"
   ]
  },
  {
   "cell_type": "code",
   "execution_count": 70,
   "id": "4d4c5836",
   "metadata": {},
   "outputs": [
    {
     "data": {
      "image/png": "[encoded data removed]",
      "text/plain": [
       "<Figure size 1000x500 with 2 Axes>"
      ]
     },
     "metadata": {},
     "output_type": "display_data"
    }
   ],
   "source": [
    "plt.figure(figsize=(10,5))\n",
    "plt.subplot(1,2,1)\n",
    "plt.plot(history.history['loss'], 'r--')\n",
    "plt.plot(history.history['val_loss'], 'b--')\n",
    "plt.xlabel(\"epochs\")\n",
    "plt.ylabel(\"Loss\")\n",
    "plt.legend(['train', 'val'], loc='upper left')\n",
    "\n",
    "plt.subplot(1,2,2)\n",
    "plt.plot(history.history['categorical_accuracy'], 'r--')\n",
    "plt.plot(history.history['val_categorical_accuracy'], 'b--')\n",
    "plt.xlabel(\"epochs\")\n",
    "plt.ylabel(\"Accuracy\")\n",
    "plt.legend(['train', 'val'], loc='upper left')\n",
    "plt.show()\n",
    "\n",
    "plt.show()"
   ]
  },
  {
   "cell_type": "code",
   "execution_count": 71,
   "id": "9ae3c809",
   "metadata": {},
   "outputs": [
    {
     "name": "stdout",
     "output_type": "stream",
     "text": [
      "Found 740 validated image filenames belonging to 16 classes.\n"
     ]
    }
   ],
   "source": [
    "test_datagen = ImageDataGenerator(rescale=1./255, data_format='channels_last')\n",
    "\n",
    "test_generator = test_datagen.flow_from_dataframe(\n",
    "    dataframe = test_data,\n",
    "    directory = './',\n",
    "    x_col = 'image_path',\n",
    "    y_col = 'sign_type',\n",
    "    target_size = (28, 28),\n",
    "    batch_size = batch_size,\n",
    "    class_mode = 'categorical'\n",
    ")"
   ]
  },
  {
   "cell_type": "code",
   "execution_count": 72,
   "id": "21e8342c",
   "metadata": {},
   "outputs": [
    {
     "name": "stdout",
     "output_type": "stream",
     "text": [
      "\u001b[1m11/24\u001b[0m \u001b[32m━━━━━━━━━\u001b[0m\u001b[37m━━━━━━━━━━━\u001b[0m \u001b[1m0s\u001b[0m 17ms/step - categorical_accuracy: 0.0918 - loss: 2.8285"
     ]
    },
    {
     "name": "stderr",
     "output_type": "stream",
     "text": [
      "/home/kevin/.local/lib/python3.10/site-packages/keras/src/trainers/data_adapters/py_dataset_adapter.py:120: UserWarning: Your `PyDataset` class should call `super().__init__(**kwargs)` in its constructor. `**kwargs` can include `workers`, `use_multiprocessing`, `max_queue_size`. Do not pass these arguments to `fit()`, as they will be ignored.\n",
      "  self._warn_if_super_not_called()\n"
     ]
    },
    {
     "name": "stdout",
     "output_type": "stream",
     "text": [
      "\u001b[1m24/24\u001b[0m \u001b[32m━━━━━━━━━━━━━━━━━━━━\u001b[0m\u001b[37m\u001b[0m \u001b[1m1s\u001b[0m 20ms/step - categorical_accuracy: 0.0957 - loss: 2.8270\n"
     ]
    },
    {
     "data": {
      "text/plain": [
       "[2.826213836669922, 0.09054054319858551]"
      ]
     },
     "execution_count": 72,
     "metadata": {},
     "output_type": "execute_result"
    }
   ],
   "source": [
    "model_leNet_aug.evaluate(test_generator)"
   ]
  },
  {
   "cell_type": "markdown",
   "id": "72b7a115",
   "metadata": {},
   "source": [
    "### Independent Evaluation"
   ]
  },
  {
   "cell_type": "code",
   "execution_count": null,
   "id": "c54e285e",
   "metadata": {},
   "outputs": [],
   "source": [
    "# Get image names from sign-type directories\n",
    "# rw = sorted(os.listdir(\"trafficsigns_dataset/diamond/rightofway\"))\n",
    "# st = sorted(os.listdir(\"trafficsigns_dataset/hex/stop\"))\n",
    "# bc = sorted(os.listdir(\"trafficsigns_dataset/round/bicycle\"))\n",
    "# lt = sorted(os.listdir(\"trafficsigns_dataset/round/limitedtraffic\"))\n",
    "# ne = sorted(os.listdir(\"trafficsigns_dataset/round/noentry\"))\n",
    "# np = sorted(os.listdir(\"trafficsigns_dataset/round/noparking\"))\n",
    "# ra = sorted(os.listdir(\"trafficsigns_dataset/round/roundabout\"))\n",
    "# sp = sorted(os.listdir(\"trafficsigns_dataset/round/speed\"))\n",
    "# td = sorted(os.listdir(\"trafficsigns_dataset/round/trafficdirective\"))\n",
    "# trvd = sorted(os.listdir(\"trafficsigns_dataset/round/traveldirection\"))\n",
    "# ct = sorted(os.listdir(\"trafficsigns_dataset/square/continue\"))\n",
    "# cr = sorted(os.listdir(\"trafficsigns_dataset/square/crossing\"))\n",
    "# le = sorted(os.listdir(\"trafficsigns_dataset/square/laneend\"))\n",
    "# pk = sorted(os.listdir(\"trafficsigns_dataset/square/parking\"))\n",
    "# gw = sorted(os.listdir(\"trafficsigns_dataset/triangle/giveway\"))\n",
    "# wn = sorted(os.listdir(\"trafficsigns_dataset/triangle/warning\"))"
   ]
  },
  {
   "cell_type": "markdown",
   "id": "6321365d",
   "metadata": {},
   "source": []
  },
  {
   "cell_type": "code",
   "execution_count": null,
   "id": "d8847bc7",
   "metadata": {},
   "outputs": [],
   "source": [
    "# sign_type_dict = []\n",
    "\n",
    "# for i in rw:\n",
    "#   sign_type_dict.append([\"trafficsigns_dataset/diamond/rightofway/\" + i,\"rightofway\"])\n",
    "\n",
    "# for i in st:\n",
    "#   sign_type_dict.append([\"trafficsigns_dataset/hex/stop/\" + i,\"stop\"])\n",
    "\n",
    "# for i in bc:\n",
    "#   sign_type_dict.append([\"trafficsigns_dataset/round/bicycle/\" + i,\"bicycle\"])\n",
    "\n",
    "# for i in lt:\n",
    "#   sign_type_dict.append([\"trafficsigns_dataset/round/limitedtraffic/\" + i,\"limitedtraffic\"])\n",
    "\n",
    "# for i in ne:\n",
    "#   sign_type_dict.append([\"trafficsigns_dataset/round/noentry/\" + i,\"noentry\"])\n",
    "\n",
    "# for i in np:\n",
    "#   sign_type_dict.append([\"trafficsigns_dataset/round/noparking/\" + i,\"noparking\"])\n",
    "\n",
    "# for i in ra:\n",
    "#   sign_type_dict.append([\"trafficsigns_dataset/round/roundabout/\" + i,\"roundabout\"])\n",
    "\n",
    "# for i in sp:\n",
    "#   sign_type_dict.append([\"trafficsigns_dataset/round/speed/\" + i,\"speed\"])\n",
    "\n",
    "# for i in td:\n",
    "#   sign_type_dict.append([\"trafficsigns_dataset/round/trafficdirective/\" + i,\"trafficdirective\"])\n",
    "\n",
    "# for i in trvd:\n",
    "#   sign_type_dict.append([\"trafficsigns_dataset/round/traveldirection/\" + i,\"traveldirection\"])\n",
    "\n",
    "# for i in ct:\n",
    "#   sign_type_dict.append([\"trafficsigns_dataset/square/continue/\" + i,\"continue\"])\n",
    "\n",
    "# for i in cr:\n",
    "#   sign_type_dict.append([\"trafficsigns_dataset/square/crossing/\" + i,\"crossing\"])\n",
    "\n",
    "# for i in le:\n",
    "#   sign_type_dict.append([\"trafficsigns_dataset/square/laneend/\" + i,\"laneend\"])\n",
    "\n",
    "# for i in pk:\n",
    "#   sign_type_dict.append([\"trafficsigns_dataset/square/parking/\" + i,\"parking\"])\n",
    "\n",
    "# for i in gw:\n",
    "#   sign_type_dict.append([\"trafficsigns_dataset/triangle/giveway/\" + i,\"giveway\"])\n",
    "\n",
    "# for i in wn:\n",
    "#   sign_type_dict.append([\"trafficsigns_dataset/triangle/warning/\" + i,\"warning\"])"
   ]
  },
  {
   "cell_type": "code",
   "execution_count": null,
   "id": "7f16cb23",
   "metadata": {},
   "outputs": [],
   "source": [
    "# stdf = pd.DataFrame(data=sign_type_dict, columns=['imgPath', 'class'])\n",
    "\n",
    "# stdf.head()"
   ]
  },
  {
   "cell_type": "code",
   "execution_count": null,
   "id": "84cd2a3c",
   "metadata": {},
   "outputs": [],
   "source": [
    "# train_data, test_data = train_test_split(stdf, test_size=0.2, random_state=42)\n",
    "# train_data, val_data = train_test_split(train_data, test_size=0.25, random_state=42)"
   ]
  },
  {
   "cell_type": "code",
   "execution_count": null,
   "id": "a0b595cf",
   "metadata": {},
   "outputs": [],
   "source": [
    "# def plot_learning_curve(train_loss, val_loss, train_metric, val_metric, metric_name='Accuracy'):\n",
    "#     plt.figure(figsize=(10,5))\n",
    "\n",
    "#     plt.subplot(1,2,1)\n",
    "#     plt.plot(train_loss, 'r--')\n",
    "#     plt.plot(val_loss, 'b--')\n",
    "#     plt.xlabel(\"epochs\")\n",
    "#     plt.ylabel(\"Loss\")\n",
    "#     plt.legend(['train', 'val'], loc='upper left')\n",
    "\n",
    "#     plt.subplot(1,2,2)\n",
    "#     plt.plot(train_metric, 'r--')\n",
    "#     plt.plot(val_metric, 'b--')\n",
    "#     plt.xlabel(\"epochs\")\n",
    "#     plt.ylabel(metric_name)\n",
    "#     plt.legend(['train', 'val'], loc='upper left')\n",
    "\n",
    "#     plt.show()"
   ]
  },
  {
   "cell_type": "code",
   "execution_count": null,
   "id": "b03ed641",
   "metadata": {},
   "outputs": [],
   "source": [
    "# INPUT_DIM = (28,28,3)\n",
    "# HIDDEN_LAYER_DIM = 256\n",
    "# OUTPUT_CLASSES = 16"
   ]
  },
  {
   "cell_type": "code",
   "execution_count": null,
   "id": "765f141e",
   "metadata": {},
   "outputs": [],
   "source": [
    "# model = tf.keras.Sequential([\n",
    "#     tf.keras.layers.Flatten(input_shape=INPUT_DIM),\n",
    "#     tf.keras.layers.Dense(HIDDEN_LAYER_DIM, activation='sigmoid'),\n",
    "#     tf.keras.layers.Dense(OUTPUT_CLASSES)\n",
    "# ])"
   ]
  },
  {
   "cell_type": "code",
   "execution_count": null,
   "id": "456ea5f9",
   "metadata": {},
   "outputs": [],
   "source": [
    "# model.summary()"
   ]
  },
  {
   "cell_type": "code",
   "execution_count": null,
   "id": "b14863d1",
   "metadata": {},
   "outputs": [],
   "source": [
    "# tf.keras.utils.plot_model(model, show_shapes=True)"
   ]
  },
  {
   "cell_type": "code",
   "execution_count": null,
   "id": "b60b17cf",
   "metadata": {},
   "outputs": [],
   "source": [
    "# model.compile(optimizer='SGD',\n",
    "#               loss=tf.keras.losses.CategoricalCrossentropy(from_logits=True),\n",
    "#               metrics=['categorical_accuracy'])"
   ]
  },
  {
   "cell_type": "code",
   "execution_count": null,
   "id": "17726a56",
   "metadata": {},
   "outputs": [],
   "source": [
    "# train_data['class'] = train_data['class'].astype('str')\n",
    "# val_data['class'] = val_data['class'].astype('str')"
   ]
  },
  {
   "cell_type": "code",
   "execution_count": null,
   "id": "aa7aee40",
   "metadata": {},
   "outputs": [],
   "source": [
    "# from tensorflow.keras.preprocessing.image import ImageDataGenerator\n",
    "\n",
    "# train_datagen = ImageDataGenerator(rescale=1./255, data_format='channels_last')\n",
    "# val_datagen = ImageDataGenerator(rescale=1./255, data_format='channels_last')\n",
    "\n",
    "# batch_size = 28\n",
    "\n",
    "# train_generator = train_datagen.flow_from_dataframe(\n",
    "#         dataframe=train_data,\n",
    "#         directory='./',\n",
    "#         x_col=\"imgPath\",\n",
    "#         y_col=\"class\",\n",
    "#         target_size=(28, 28),\n",
    "#         batch_size=batch_size,\n",
    "#         class_mode='categorical')\n",
    "\n",
    "# validation_generator = val_datagen.flow_from_dataframe(\n",
    "#         dataframe=test_data,\n",
    "#         directory='./',\n",
    "#         x_col=\"imgPath\",\n",
    "#         y_col=\"class\",\n",
    "#         target_size=(28, 28),\n",
    "#         batch_size=batch_size,\n",
    "#         class_mode='categorical')"
   ]
  },
  {
   "cell_type": "code",
   "execution_count": null,
   "id": "111a84e0",
   "metadata": {},
   "outputs": [],
   "source": [
    "# history = model.fit(train_generator, validation_data = validation_generator, epochs=15, verbose=0)"
   ]
  },
  {
   "cell_type": "code",
   "execution_count": null,
   "id": "da5f7767",
   "metadata": {},
   "outputs": [],
   "source": [
    "# plot_learning_curve(history.history['loss'], history.history['val_loss'],\n",
    "#                     history.history['categorical_accuracy'], history.history['val_categorical_accuracy'],\n",
    "#                     metric_name='Accuracy')"
   ]
  },
  {
   "cell_type": "code",
   "execution_count": null,
   "id": "bda266df",
   "metadata": {},
   "outputs": [],
   "source": [
    "# test_data['class'] = test_data['class'].astype('str')\n",
    "\n",
    "# test_datagen = ImageDataGenerator(rescale=1./255, data_format='channels_last')\n",
    "\n",
    "# batch_size = 1\n",
    "\n",
    "# test_generator = test_datagen.flow_from_dataframe(\n",
    "#         dataframe=test_data,\n",
    "#         directory='./',\n",
    "#         x_col=\"imgPath\",\n",
    "#         y_col=\"class\",\n",
    "#         target_size=(28, 28),\n",
    "#         batch_size=batch_size,\n",
    "#         class_mode='categorical')"
   ]
  },
  {
   "cell_type": "code",
   "execution_count": null,
   "id": "4807be89",
   "metadata": {},
   "outputs": [],
   "source": [
    "# model.evaluate(test_generator)"
   ]
  },
  {
   "cell_type": "code",
   "execution_count": null,
   "id": "53cede3c",
   "metadata": {},
   "outputs": [],
   "source": [
    "# label_names = {'rightofway' : 0, 'stop' : 1, 'bicycle' : 2, 'limitedtraffic' : 3, 'noentry' : 4, 'noparking' : 5, 'roundabout' : 6, 'speed' : 7, 'trafficdirective' : 8, 'traveldirection' : 9,\n",
    "#                'continue' : 10, 'crossing' : 11, 'laneend' : 12, 'parking' : 13, 'giveway' : 14, 'warning' : 15}"
   ]
  },
  {
   "cell_type": "code",
   "execution_count": null,
   "id": "0a268710",
   "metadata": {},
   "outputs": [],
   "source": [
    "# d_inv = {v: k for k, v in label_names.items()}\n",
    "# plt.figure(figsize=(16,4))\n",
    "# batches = 0\n",
    "# for x,y in test_generator:\n",
    "#         batches = batches + 1\n",
    "#         y_hat = model.predict(x, verbose=0)\n",
    "#         x = np.squeeze(x)\n",
    "#         if batches < 5:\n",
    "#             plt.subplot(1,5,batches)\n",
    "#             plt.imshow(x)\n",
    "#             plt.title(\"GT-{}, Pred-{}\".format(d_inv[np.argmax(y[0])], d_inv[np.argmax(y_hat[0])] ))\n",
    "\n",
    "#         else:\n",
    "#             break\n",
    "\n",
    "#         plt.axis('off')"
   ]
  }
 ],
 "metadata": {
  "kernelspec": {
   "display_name": "Python 3 (ipykernel)",
   "language": "python",
   "name": "python3"
  },
  "language_info": {
   "codemirror_mode": {
    "name": "ipython",
    "version": 3
   },
   "file_extension": ".py",
   "mimetype": "text/x-python",
   "name": "python",
   "nbconvert_exporter": "python",
   "pygments_lexer": "ipython3",
   "version": "3.10.12"
  }
 },
 "nbformat": 4,
 "nbformat_minor": 5
}
